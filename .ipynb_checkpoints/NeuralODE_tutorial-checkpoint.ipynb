{
 "cells": [
  {
   "cell_type": "markdown",
   "id": "6530e77f",
   "metadata": {
    "papermill": {
     "duration": 0.024543,
     "end_time": "2021-06-17T12:39:24.039027",
     "exception": false,
     "start_time": "2021-06-17T12:39:24.014484",
     "status": "completed"
    },
    "tags": []
   },
   "source": [
    "# The Cookbook of Neural ODEs\n",
    "\n",
    "`torchdyn` implements out-of-the-box a variety of continuous-depth models. In this introductory tutorial, we show how we can switch between model variants with minor effort. We will touch upon the following Neural ODE variants:\n",
    "\n",
    "* **Vanilla** (depth-invariant) (same as the [torchdyn quickstart](./00_quickstart.html) tutorial)\n",
    "* **Vanilla** (depth-variant)\n",
    "* **Galerkin**\n",
    "* **Data-controlled**\n",
    "* **Stacked (piece-wise constant weights)**\n",
    "* **Stacked with discrete state transitions**\n",
    "--------------------------------------\n",
    "\n",
    "For more advanced models check out \n",
    "\n",
    "* Multiple Shooting Layers\n",
    "* [Hamiltonian Neural Networks](./06a_hamiltonian_nn.html)\n",
    "* [Lagrangian Neural Networks](./06b_lagrangian_nn.html)\n",
    "* [Continuous Normalizing Flows](./07_continuous_normalizing_flow.html)\n",
    "* [Graph Neural ODEs](./08_graph_neural_de.html)"
   ]
  },
  {
   "cell_type": "code",
   "execution_count": null,
   "id": "599a9175",
   "metadata": {
    "papermill": {
     "duration": 1.118505,
     "end_time": "2021-06-17T12:39:25.175944",
     "exception": false,
     "start_time": "2021-06-17T12:39:24.057439",
     "status": "completed"
    },
    "tags": []
   },
   "outputs": [],
   "source": [
    "from torchdyn.core import NeuralODE\n",
    "from torchdyn.nn import DataControl, DepthCat, Augmenter, GalLinear, Fourier\n",
    "from torchdyn.datasets import *\n",
    "from torchdyn.utils import *\n",
    "\n",
    "%load_ext autoreload\n",
    "%autoreload 2"
   ]
  },
  {
   "cell_type": "code",
   "execution_count": null,
   "id": "f7ecc430",
   "metadata": {
    "tags": [
     "parameters"
    ]
   },
   "outputs": [],
   "source": [
    "# quick run for automated notebook validation\n",
    "dry_run = False"
   ]
  },
  {
   "cell_type": "markdown",
   "id": "163ca251",
   "metadata": {
    "papermill": {
     "duration": 0.018588,
     "end_time": "2021-06-17T12:39:25.218468",
     "exception": false,
     "start_time": "2021-06-17T12:39:25.199880",
     "status": "completed"
    },
    "tags": []
   },
   "source": [
    "**Data:** we use again the moons dataset (with some added noise) simply because all the models will be effective to solve this easy binary classification problem.\n",
    "\n"
   ]
  },
  {
   "cell_type": "code",
   "execution_count": null,
   "id": "0b51385f",
   "metadata": {
    "papermill": {
     "duration": 0.023454,
     "end_time": "2021-06-17T12:39:25.260625",
     "exception": false,
     "start_time": "2021-06-17T12:39:25.237171",
     "status": "completed"
    },
    "tags": []
   },
   "outputs": [],
   "source": [
    "d = ToyDataset()\n",
    "X, yn = d.generate(n_samples=512, dataset_type='moons', noise=.1)"
   ]
  },
  {
   "cell_type": "code",
   "execution_count": null,
   "id": "1ab4ef82",
   "metadata": {
    "papermill": {
     "duration": 2.995151,
     "end_time": "2021-06-17T12:39:28.274655",
     "exception": false,
     "start_time": "2021-06-17T12:39:25.279504",
     "status": "completed"
    },
    "tags": []
   },
   "outputs": [],
   "source": [
    "import matplotlib.pyplot as plt\n",
    "\n",
    "colors = ['orange', 'blue'] \n",
    "fig = plt.figure(figsize=(3,3))\n",
    "ax = fig.add_subplot(111)\n",
    "for i in range(len(X)):\n",
    "    ax.scatter(X[i,0], X[i,1], s=1, color=colors[yn[i].int()])"
   ]
  },
  {
   "cell_type": "code",
   "execution_count": null,
   "id": "404a1055",
   "metadata": {
    "papermill": {
     "duration": 4.507785,
     "end_time": "2021-06-17T12:39:32.805540",
     "exception": false,
     "start_time": "2021-06-17T12:39:28.297755",
     "status": "completed"
    },
    "tags": []
   },
   "outputs": [],
   "source": [
    "import torch\n",
    "import torch.utils.data as data\n",
    "device = torch.device(\"cuda:0\" if torch.cuda.is_available() else \"cpu\")\n",
    "\n",
    "X_train = torch.Tensor(X).to(device)\n",
    "y_train = torch.LongTensor(yn.long()).to(device)\n",
    "train = data.TensorDataset(X_train, y_train)\n",
    "trainloader = data.DataLoader(train, batch_size=len(X), shuffle=True)"
   ]
  },
  {
   "cell_type": "markdown",
   "id": "98f3dfd5",
   "metadata": {
    "papermill": {
     "duration": 0.019241,
     "end_time": "2021-06-17T12:39:32.846486",
     "exception": false,
     "start_time": "2021-06-17T12:39:32.827245",
     "status": "completed"
    },
    "tags": []
   },
   "source": [
    "**Learner**"
   ]
  },
  {
   "cell_type": "code",
   "execution_count": 6,
   "id": "0ec12c94",
   "metadata": {
    "papermill": {
     "duration": 0.027901,
     "end_time": "2021-06-17T12:39:32.893799",
     "exception": false,
     "start_time": "2021-06-17T12:39:32.865898",
     "status": "completed"
    },
    "tags": []
   },
   "outputs": [],
   "source": [
    "import torch.nn as nn\n",
    "import pytorch_lightning as pl\n",
    "\n",
    "class Learner(pl.LightningModule):\n",
    "    def __init__(self, t_span:torch.Tensor, model:nn.Module):\n",
    "        super().__init__()\n",
    "        self.model, self.t_span = model, t_span\n",
    "    \n",
    "    def forward(self, x):\n",
    "        return self.model(x)\n",
    "    \n",
    "    def training_step(self, batch, batch_idx):\n",
    "        x, y = batch      \n",
    "        t_eval, y_hat = self.model(x, self.t_span)\n",
    "        y_hat = y_hat[-1] # select last point of solution trajectory\n",
    "        loss = nn.CrossEntropyLoss()(y_hat, y)\n",
    "        return {'loss': loss}   \n",
    "    \n",
    "    def configure_optimizers(self):\n",
    "        return torch.optim.Adam(self.model.parameters(), lr=0.01)\n",
    "\n",
    "    def train_dataloader(self):\n",
    "        return trainloader"
   ]
  },
  {
   "cell_type": "markdown",
   "id": "c83672c4",
   "metadata": {
    "papermill": {
     "duration": 0.019388,
     "end_time": "2021-06-17T12:39:32.936640",
     "exception": false,
     "start_time": "2021-06-17T12:39:32.917252",
     "status": "completed"
    },
    "tags": []
   },
   "source": [
    "**Note:** In this notebook we will consider the depth domain $[0,1]$, i.e. $t\\in[0,1]$. Note that, for most architectures in *static* settings (aka we do not deal with dynamic data) any other depth domain does not actually affect the expressiveness of Neural ODEs, since it can be seen as a rescaled/shifted version of $[0,1]$. Please note that, however, other choices of the depth domain can indeed affect the training phase\n",
    "\n",
    "The depth domain can be accessed and modified through the `t_span` setting of `NeuralODE` instances."
   ]
  },
  {
   "cell_type": "markdown",
   "id": "7397e706",
   "metadata": {
    "papermill": {
     "duration": 0.019488,
     "end_time": "2021-06-17T12:39:32.975753",
     "exception": false,
     "start_time": "2021-06-17T12:39:32.956265",
     "status": "completed"
    },
    "tags": []
   },
   "source": [
    "## Vanilla Neural ODE (Depth-Invariant)"
   ]
  },
  {
   "cell_type": "markdown",
   "id": "6d3ec4d3",
   "metadata": {
    "papermill": {
     "duration": 0.019643,
     "end_time": "2021-06-17T12:39:33.014980",
     "exception": false,
     "start_time": "2021-06-17T12:39:32.995337",
     "status": "completed"
    },
    "tags": []
   },
   "source": [
    "$$ \\left\\{\n",
    "    \\begin{aligned}\n",
    "        \\dot{z}(t) &= f(z(t), \\theta)\\\\\n",
    "        z(0) &= x\\\\\n",
    "        \\hat y & = z(1)\n",
    "    \\end{aligned}\n",
    "    \\right. \\quad t\\in[0,1]\n",
    "$$"
   ]
  },
  {
   "cell_type": "markdown",
   "id": "6923c9a3",
   "metadata": {
    "papermill": {
     "duration": 0.019468,
     "end_time": "2021-06-17T12:39:33.054014",
     "exception": false,
     "start_time": "2021-06-17T12:39:33.034546",
     "status": "completed"
    },
    "tags": []
   },
   "source": [
    "This model is the same used in [torchdyn quickstart](./00_quickstart.html) tutorial. The vector field is parametrized by a neural network $f$ with *static* parameters $\\theta$ and taking as input only the state $h(s)$."
   ]
  },
  {
   "cell_type": "code",
   "execution_count": 7,
   "id": "60b4c046",
   "metadata": {
    "papermill": {
     "duration": 0.03442,
     "end_time": "2021-06-17T12:39:33.108134",
     "exception": false,
     "start_time": "2021-06-17T12:39:33.073714",
     "status": "completed"
    },
    "tags": []
   },
   "outputs": [
    {
     "name": "stdout",
     "output_type": "stream",
     "text": [
      "Your vector field callable (nn.Module) should have both time `t` and state `x` as arguments, we've wrapped it for you.\n"
     ]
    }
   ],
   "source": [
    "# vector field parametrized by a NN\n",
    "f = nn.Sequential(\n",
    "        nn.Linear(2, 64),\n",
    "        nn.Tanh(), \n",
    "        nn.Linear(64, 2))\n",
    "\n",
    "t_span = torch.linspace(0, 1, 2)\n",
    "\n",
    "# Neural ODE\n",
    "# `interpolator` here refers to the scheme used together with `solver` to ensure estimates of the solution at all points in `t_span` are returned. \n",
    "# During solution of the adjoint, cubic interpolation is used regardless of `interpolator`.\n",
    "model = NeuralODE(f, sensitivity='adjoint', solver='tsit5', interpolator=None, atol=1e-3, rtol=1e-3).to(device)"
   ]
  },
  {
   "cell_type": "code",
   "execution_count": null,
   "id": "10f31709",
   "metadata": {
    "papermill": {
     "duration": 16.239834,
     "end_time": "2021-06-17T12:39:49.372314",
     "exception": false,
     "start_time": "2021-06-17T12:39:33.132480",
     "status": "completed"
    },
    "tags": []
   },
   "outputs": [
    {
     "name": "stderr",
     "output_type": "stream",
     "text": [
      "GPU available: False, used: False\n",
      "TPU available: False, using: 0 TPU cores\n",
      "IPU available: False, using: 0 IPUs\n",
      "HPU available: False, using: 0 HPUs\n",
      "c:\\Users\\whrow\\Desktop\\ml_graduate\\NeuralODE-introduction\\.venv\\lib\\site-packages\\pytorch_lightning\\trainer\\connectors\\logger_connector\\logger_connector.py:67: UserWarning: Starting from v1.9.0, `tensorboardX` has been removed as a dependency of the `pytorch_lightning` package, due to potential conflicts with other packages in the ML ecosystem. For this reason, `logger=True` will use `CSVLogger` as the default logger, unless the `tensorboard` or `tensorboardX` packages are found. Please `pip install lightning[extra]` or one of them to enable TensorBoard support by default\n",
      "  warning_cache.warn(\n",
      "\n",
      "  | Name  | Type      | Params\n",
      "------------------------------------\n",
      "0 | model | NeuralODE | 322   \n",
      "------------------------------------\n",
      "322       Trainable params\n",
      "0         Non-trainable params\n",
      "322       Total params\n",
      "0.001     Total estimated model params size (MB)\n",
      "c:\\Users\\whrow\\Desktop\\ml_graduate\\NeuralODE-introduction\\.venv\\lib\\site-packages\\pytorch_lightning\\trainer\\connectors\\data_connector.py:430: PossibleUserWarning: The dataloader, train_dataloader, does not have many workers which may be a bottleneck. Consider increasing the value of the `num_workers` argument` (try 12 which is the number of cpus on this machine) in the `DataLoader` init to improve performance.\n",
      "  rank_zero_warn(\n",
      "c:\\Users\\whrow\\Desktop\\ml_graduate\\NeuralODE-introduction\\.venv\\lib\\site-packages\\pytorch_lightning\\loops\\fit_loop.py:280: PossibleUserWarning: The number of training batches (1) is smaller than the logging interval Trainer(log_every_n_steps=50). Set a lower value for log_every_n_steps if you want to see logs for the training epoch.\n",
      "  rank_zero_warn(\n"
     ]
    },
    {
     "data": {
      "application/vnd.jupyter.widget-view+json": {
       "model_id": "588eb97fe5c74135962c561be9486333",
       "version_major": 2,
       "version_minor": 0
      },
      "text/plain": [
       "Training: 0it [00:00, ?it/s]"
      ]
     },
     "metadata": {},
     "output_type": "display_data"
    }
   ],
   "source": [
    "# train the Neural ODE\n",
    "learn = Learner(t_span, model)\n",
    "if dry_run: trainer = pl.Trainer(min_epochs=1, max_epochs=1)\n",
    "else: trainer = pl.Trainer(min_epochs=200, max_epochs=250)\n",
    "trainer.fit(learn)"
   ]
  },
  {
   "cell_type": "markdown",
   "id": "e83d9623",
   "metadata": {
    "papermill": {
     "duration": 0.020305,
     "end_time": "2021-06-17T12:39:49.413997",
     "exception": false,
     "start_time": "2021-06-17T12:39:49.393692",
     "status": "completed"
    },
    "tags": []
   },
   "source": [
    "**Plots**"
   ]
  },
  {
   "cell_type": "code",
   "execution_count": null,
   "id": "d18a1e08",
   "metadata": {
    "papermill": {
     "duration": 0.18947,
     "end_time": "2021-06-17T12:39:49.623851",
     "exception": true,
     "start_time": "2021-06-17T12:39:49.434381",
     "status": "failed"
    },
    "tags": []
   },
   "outputs": [],
   "source": [
    "t_span = torch.linspace(0,1,100)\n",
    "t_eval, trajectory = model(X_train.cpu(), t_span)\n",
    "trajectory = trajectory.detach()"
   ]
  },
  {
   "cell_type": "code",
   "execution_count": null,
   "id": "82c5f886",
   "metadata": {
    "papermill": {
     "duration": null,
     "end_time": null,
     "exception": null,
     "start_time": null,
     "status": "pending"
    },
    "tags": []
   },
   "outputs": [],
   "source": [
    "# Trajectories in the depth domain\n",
    "plot_2D_depth_trajectory(t_span, trajectory, yn, len(X))"
   ]
  },
  {
   "cell_type": "code",
   "execution_count": null,
   "id": "a3a8bbcf",
   "metadata": {
    "papermill": {
     "duration": null,
     "end_time": null,
     "exception": null,
     "start_time": null,
     "status": "pending"
    },
    "tags": []
   },
   "outputs": [],
   "source": [
    "# Trajectories in the state-space\n",
    "plot_2D_state_space(trajectory, yn, len(X))"
   ]
  },
  {
   "cell_type": "code",
   "execution_count": null,
   "id": "433164d6",
   "metadata": {
    "papermill": {
     "duration": null,
     "end_time": null,
     "exception": null,
     "start_time": null,
     "status": "pending"
    },
    "tags": []
   },
   "outputs": [],
   "source": [
    "# Trajectories in space-depth\n",
    "plot_2D_space_depth(t_span, trajectory, yn, len(X))"
   ]
  },
  {
   "cell_type": "markdown",
   "id": "4e1e0ff4",
   "metadata": {
    "papermill": {
     "duration": null,
     "end_time": null,
     "exception": null,
     "start_time": null,
     "status": "pending"
    },
    "tags": []
   },
   "source": [
    "## Vanilla Neural ODE (Depth-Variant)"
   ]
  },
  {
   "cell_type": "markdown",
   "id": "85712e55",
   "metadata": {
    "papermill": {
     "duration": null,
     "end_time": null,
     "exception": null,
     "start_time": null,
     "status": "pending"
    },
    "tags": []
   },
   "source": [
    "$$ \\left\\{\n",
    "    \\begin{aligned}\n",
    "        \\dot{z}(s) &= f(t, z(t), \\theta)\\\\\n",
    "        z(0) &= x\\\\\n",
    "        \\hat y & = z(1)\n",
    "    \\end{aligned}\n",
    "    \\right. \\quad t\\in[0,1]\n",
    "$$\n",
    "\n",
    "This model, contemplated by the seminal paper from [[Chen T. Q. et al, 2018]](https://arxiv.org/abs/1806.07366), is usually obtained by concatenating $t$ to the state $h$ as input of $f$, i.e. $f([h(t),t])$. For a simple and flexible implementation we developed a dedicated layer, `DepthCat`, which takes care of automatically concatenating $t$ to the state at each call of the `DEFunc`. The final user only needs to specify concatenation dimension to which $t$ should be appended. Specifically, for an MLP, $h\\in\\mathbb{R}^{batch\\times dims}$ and, thus we should use `DepthCat(1)`."
   ]
  },
  {
   "cell_type": "code",
   "execution_count": null,
   "id": "f8d2530b",
   "metadata": {
    "papermill": {
     "duration": null,
     "end_time": null,
     "exception": null,
     "start_time": null,
     "status": "pending"
    },
    "tags": []
   },
   "outputs": [],
   "source": [
    "# vector field parametrized by a NN\n",
    "f = nn.Sequential(\n",
    "        DepthCat(1),\n",
    "        nn.Linear(2+1, 64),\n",
    "        nn.Tanh(),\n",
    "        DepthCat(1),\n",
    "        nn.Linear(64+1, 2))\n",
    "\n",
    "t_span = torch.linspace(0, 1, 2)\n",
    "\n",
    "# Neural ODE\n",
    "model = NeuralODE(f, sensitivity='adjoint', solver='tsit5', interpolator=None, atol=1e-3, rtol=1e-3).to(device)"
   ]
  },
  {
   "cell_type": "code",
   "execution_count": null,
   "id": "563c5655",
   "metadata": {
    "papermill": {
     "duration": null,
     "end_time": null,
     "exception": null,
     "start_time": null,
     "status": "pending"
    },
    "tags": []
   },
   "outputs": [],
   "source": [
    "# train the Neural ODE\n",
    "learn = Learner(t_span, model)\n",
    "if dry_run: trainer = pl.Trainer(min_epochs=1, max_epochs=1)\n",
    "else: trainer = pl.Trainer(min_epochs=150, max_epochs=150)\n",
    "trainer.fit(learn)"
   ]
  },
  {
   "cell_type": "markdown",
   "id": "0570f62a",
   "metadata": {
    "papermill": {
     "duration": null,
     "end_time": null,
     "exception": null,
     "start_time": null,
     "status": "pending"
    },
    "tags": []
   },
   "source": [
    "**Plot**"
   ]
  },
  {
   "cell_type": "code",
   "execution_count": null,
   "id": "c83451f8",
   "metadata": {
    "papermill": {
     "duration": null,
     "end_time": null,
     "exception": null,
     "start_time": null,
     "status": "pending"
    },
    "tags": []
   },
   "outputs": [],
   "source": [
    "t_span = torch.linspace(0,1,100)\n",
    "t_eval, trajectory = model(X_train.cpu(), t_span)\n",
    "trajectory = trajectory.detach()"
   ]
  },
  {
   "cell_type": "code",
   "execution_count": null,
   "id": "39a829ff",
   "metadata": {
    "papermill": {
     "duration": null,
     "end_time": null,
     "exception": null,
     "start_time": null,
     "status": "pending"
    },
    "tags": []
   },
   "outputs": [],
   "source": [
    "# Trajectories in the depth domain\n",
    "plot_2D_depth_trajectory(t_span, trajectory, yn, len(X))"
   ]
  },
  {
   "cell_type": "code",
   "execution_count": null,
   "id": "19490a35",
   "metadata": {
    "papermill": {
     "duration": null,
     "end_time": null,
     "exception": null,
     "start_time": null,
     "status": "pending"
    },
    "tags": []
   },
   "outputs": [],
   "source": [
    "# Trajectories in the state-space\n",
    "plot_2D_state_space(trajectory, yn, len(X))"
   ]
  },
  {
   "cell_type": "code",
   "execution_count": null,
   "id": "73e5c0e0",
   "metadata": {
    "papermill": {
     "duration": null,
     "end_time": null,
     "exception": null,
     "start_time": null,
     "status": "pending"
    },
    "tags": []
   },
   "outputs": [],
   "source": [
    "# Trajectories in space-depth\n",
    "plot_2D_space_depth(t_span, trajectory, yn, len(X))"
   ]
  },
  {
   "cell_type": "markdown",
   "id": "3c2bf699",
   "metadata": {
    "papermill": {
     "duration": null,
     "end_time": null,
     "exception": null,
     "start_time": null,
     "status": "pending"
    },
    "tags": []
   },
   "source": [
    "## Galerkin-Style Neural ODE"
   ]
  },
  {
   "cell_type": "markdown",
   "id": "391a9a25",
   "metadata": {
    "papermill": {
     "duration": null,
     "end_time": null,
     "exception": null,
     "start_time": null,
     "status": "pending"
    },
    "tags": []
   },
   "source": [
    "Galerkin-style Neural ODEs proposed in [Massaroli S., Poli M. et al., 2020](https://arxiv.org/abs/2002.08071) make the weights of the neural ODE to be *depth-varying*, i.e. $\\theta=\\theta(s)$ obtaining a model of type\n",
    "\n",
    "$$\n",
    "    \\left\\{\n",
    "    \\begin{aligned}\n",
    "        \\dot{z}(t) &= f(z(t), \\theta(t))\\\\\n",
    "        z(0) &= x\\\\\n",
    "        \\hat y & = z(1)\n",
    "    \\end{aligned}\n",
    "    \\right. \\quad t\\in[0,1]\n",
    "$$\n",
    "\n",
    "where the depth evolution of $\\theta(t)$ is parametrized by a trucated eigenfunction expasion, usually an orthogonal basis of some functional space, i.e.\n",
    "\n",
    "$$\n",
    "    \\forall i \\quad \\theta_i(t) = \\sum_{j=0}^{m}\\gamma_j\\odot\\psi_j(t)\n",
    "$$\n",
    "\n",
    "The model is then trained by optimizing for the eigenvalues $\\gamma_j$. Note that if $\\theta\\in \\mathbb{R}^d$ there will be $d\\times m$ final model's parameters. In this tutorial, we use a 10th-order polynomial expansion to model $\\theta(t)$."
   ]
  },
  {
   "cell_type": "code",
   "execution_count": null,
   "id": "522e1bef",
   "metadata": {
    "papermill": {
     "duration": null,
     "end_time": null,
     "exception": null,
     "start_time": null,
     "status": "pending"
    },
    "tags": []
   },
   "outputs": [],
   "source": [
    "# vector field parametrized by a NN with \"GalLinear\" layer\n",
    "# notice how DepthCat is still used since Galerkin layers make use of `t` (though in a different way compared to concatenation)\n",
    "f = nn.Sequential(DepthCat(1), \n",
    "                  GalLinear(2, 32, expfunc=Fourier(5)),\n",
    "                  nn.Tanh(),\n",
    "                  nn.Linear(32, 2))\n",
    "\n",
    "t_span = torch.linspace(0, 1, 2)\n",
    "\n",
    "# Neural ODE\n",
    "model = NeuralODE(f, sensitivity='interpolated_adjoint', solver='tsit5', atol=1e-3, rtol=1e-3).to(device)"
   ]
  },
  {
   "cell_type": "code",
   "execution_count": null,
   "id": "6340e53d",
   "metadata": {
    "papermill": {
     "duration": null,
     "end_time": null,
     "exception": null,
     "start_time": null,
     "status": "pending"
    },
    "tags": []
   },
   "outputs": [],
   "source": [
    "# train the Neural ODE\n",
    "learn = Learner(t_span, model)\n",
    "if dry_run: trainer = pl.Trainer(min_epochs=1, max_epochs=1)\n",
    "else: trainer = pl.Trainer(min_epochs=100, max_epochs=100)\n",
    "trainer.fit(learn)"
   ]
  },
  {
   "cell_type": "markdown",
   "id": "f459796d",
   "metadata": {
    "papermill": {
     "duration": null,
     "end_time": null,
     "exception": null,
     "start_time": null,
     "status": "pending"
    },
    "tags": []
   },
   "source": [
    "**Plot**"
   ]
  },
  {
   "cell_type": "code",
   "execution_count": null,
   "id": "0c1bff2c",
   "metadata": {
    "papermill": {
     "duration": null,
     "end_time": null,
     "exception": null,
     "start_time": null,
     "status": "pending"
    },
    "tags": []
   },
   "outputs": [],
   "source": [
    "# Important: notice how we are passing `t_eval` to the plot below? `interpolated_adjoint` Neural ODEs save all solution points evaluated in the forward pass, even those\n",
    "# outside of a given `t_span`. This is to ensure the interpolation in the \"backward pass\" is more accurate. This also means that `len(traj)` will be > 100!\n",
    "t_span = torch.linspace(0,1,100)\n",
    "t_eval, trajectory = model(X_train.cpu(), t_span)\n",
    "trajectory = trajectory.detach()\n",
    "t_eval = t_eval.detach()\n",
    "# if you wish to recover only points at `t_span` with `interpolated_adjoint` Neural ODEs, use their `.trajectory` method"
   ]
  },
  {
   "cell_type": "code",
   "execution_count": null,
   "id": "a8e0cb34",
   "metadata": {
    "papermill": {
     "duration": null,
     "end_time": null,
     "exception": null,
     "start_time": null,
     "status": "pending"
    },
    "scrolled": true,
    "tags": []
   },
   "outputs": [],
   "source": [
    "# Trajectories in the depth domain\n",
    "plot_2D_depth_trajectory(t_eval, trajectory, yn, len(X))"
   ]
  },
  {
   "cell_type": "code",
   "execution_count": null,
   "id": "122a456c",
   "metadata": {
    "papermill": {
     "duration": null,
     "end_time": null,
     "exception": null,
     "start_time": null,
     "status": "pending"
    },
    "tags": []
   },
   "outputs": [],
   "source": [
    "# Trajectories in the state-space\n",
    "plot_2D_state_space(trajectory, yn, len(X))"
   ]
  },
  {
   "cell_type": "code",
   "execution_count": null,
   "id": "a25e0693",
   "metadata": {
    "papermill": {
     "duration": null,
     "end_time": null,
     "exception": null,
     "start_time": null,
     "status": "pending"
    },
    "scrolled": true,
    "tags": []
   },
   "outputs": [],
   "source": [
    "# Trajectories in space-depth\n",
    "plot_2D_space_depth(t_eval, trajectory, yn, len(X))"
   ]
  },
  {
   "cell_type": "markdown",
   "id": "e5eb8270",
   "metadata": {
    "papermill": {
     "duration": null,
     "end_time": null,
     "exception": null,
     "start_time": null,
     "status": "pending"
    },
    "tags": []
   },
   "source": [
    "## Data-Controlled Neural ODE"
   ]
  },
  {
   "cell_type": "markdown",
   "id": "1fae5c8f",
   "metadata": {
    "papermill": {
     "duration": null,
     "end_time": null,
     "exception": null,
     "start_time": null,
     "status": "pending"
    },
    "tags": []
   },
   "source": [
    "Data-controlled neural ODEs, also introduced in [Massaroli S., Poli M. et al., 2020](https://arxiv.org/abs/2002.08071) consist in feeding to the vector field the input data $x$ (the initial condition of the ODE), leading to\n",
    "\n",
    "$$ \\left\\{\n",
    "    \\begin{aligned}\n",
    "        \\dot{z}(s) &= f(z(s), x, \\theta)\\\\\n",
    "        z(0) &= x\\\\\n",
    "        \\hat y & = z(1)\n",
    "    \\end{aligned}\n",
    "    \\right. \\quad s\\in[0,1]\n",
    "$$\n",
    "\n",
    "In this way, the Neural ODE learns a family of vector fields rather than a single one. \n",
    "\n",
    "In practice, we concatenate $x$ to $h$ and simply feed $[h, x]$ to $f$, which should indeed be defined to accomodate the extra $dim(x)$ dimensions. Data-control inputs can be defined at any point in `f` via use of `DataControl`."
   ]
  },
  {
   "cell_type": "code",
   "execution_count": null,
   "id": "a522c5ab",
   "metadata": {
    "papermill": {
     "duration": null,
     "end_time": null,
     "exception": null,
     "start_time": null,
     "status": "pending"
    },
    "tags": []
   },
   "outputs": [],
   "source": [
    "# vector field parametrized by a NN which takes as input [h, x]\n",
    "f = nn.Sequential(DataControl(),\n",
    "                  nn.Linear(2+2, 64),\n",
    "                  nn.Tanh(),\n",
    "                  nn.Linear(64, 2))\n",
    "\n",
    "t_span = torch.linspace(0, 1, 2)\n",
    "\n",
    "# Neural ODE\n",
    "model = NeuralODE(f, sensitivity='interpolated_adjoint', solver='tsit5', atol=1e-3, rtol=1e-3).to(device)"
   ]
  },
  {
   "cell_type": "code",
   "execution_count": null,
   "id": "2768eea0",
   "metadata": {
    "papermill": {
     "duration": null,
     "end_time": null,
     "exception": null,
     "start_time": null,
     "status": "pending"
    },
    "tags": []
   },
   "outputs": [],
   "source": [
    "learn = Learner(t_span, model)\n",
    "if dry_run: trainer = pl.Trainer(min_epochs=1, max_epochs=1)\n",
    "else: trainer = pl.Trainer(min_epochs=150, max_epochs=250)\n",
    "trainer.fit(learn)"
   ]
  },
  {
   "cell_type": "markdown",
   "id": "7c7b873a",
   "metadata": {
    "papermill": {
     "duration": null,
     "end_time": null,
     "exception": null,
     "start_time": null,
     "status": "pending"
    },
    "tags": []
   },
   "source": [
    "**Plots**"
   ]
  },
  {
   "cell_type": "code",
   "execution_count": null,
   "id": "5a0cf018",
   "metadata": {
    "papermill": {
     "duration": null,
     "end_time": null,
     "exception": null,
     "start_time": null,
     "status": "pending"
    },
    "tags": []
   },
   "outputs": [],
   "source": [
    "# let us try the `.trajectory method` here\n",
    "t_span = torch.linspace(0,1,100)\n",
    "trajectory = model.trajectory(X_train.cpu(), t_span)\n",
    "trajectory = trajectory.detach()"
   ]
  },
  {
   "cell_type": "code",
   "execution_count": null,
   "id": "f417174c",
   "metadata": {
    "papermill": {
     "duration": null,
     "end_time": null,
     "exception": null,
     "start_time": null,
     "status": "pending"
    },
    "tags": []
   },
   "outputs": [],
   "source": [
    "# Trajectories in the depth domain (we can now use the actual `t_span`, since only points in the span are given by the model)\n",
    "plot_2D_depth_trajectory(t_span, trajectory, yn, len(X))"
   ]
  },
  {
   "cell_type": "code",
   "execution_count": null,
   "id": "e5b630a2",
   "metadata": {
    "papermill": {
     "duration": null,
     "end_time": null,
     "exception": null,
     "start_time": null,
     "status": "pending"
    },
    "scrolled": true,
    "tags": []
   },
   "outputs": [],
   "source": [
    "# Trajectories in the state-space\n",
    "plot_2D_state_space(trajectory, yn, len(X))"
   ]
  },
  {
   "cell_type": "code",
   "execution_count": null,
   "id": "b9b78a7b",
   "metadata": {
    "papermill": {
     "duration": null,
     "end_time": null,
     "exception": null,
     "start_time": null,
     "status": "pending"
    },
    "scrolled": true,
    "tags": []
   },
   "outputs": [],
   "source": [
    "# Trajectories in space-depth\n",
    "plot_2D_space_depth(t_span, trajectory, yn, len(X))"
   ]
  },
  {
   "cell_type": "markdown",
   "id": "35e0a300",
   "metadata": {
    "papermill": {
     "duration": null,
     "end_time": null,
     "exception": null,
     "start_time": null,
     "status": "pending"
    },
    "tags": []
   },
   "source": [
    "## Stacked Neural ODE (aka Piece-wise constant parameters)"
   ]
  },
  {
   "cell_type": "markdown",
   "id": "c045cac2",
   "metadata": {
    "papermill": {
     "duration": null,
     "end_time": null,
     "exception": null,
     "start_time": null,
     "status": "pending"
    },
    "tags": []
   },
   "source": [
    "While looking for an \"easier\" solution than Galererkin Neural ODEs without trading the expressivity of the model, **stacked neural ODEs** may come in handy. Instead of approximating the solution of an infinite-dimensional problem (e.g. Galerkin-style), we can also use piece-wise constant weight functions. Let us subdivide the depth in $N$ intervals\n",
    "    \n",
    "$$\n",
    "        \\mathcal{T} = \\prod_{i=0}^{N}[t_i,t_{i+1}], \\quad t_0 = 0, \\quad t_{N+1}=T  \\quad(\\forall i  \\quad s_i\\leq t_{i+1})\n",
    "$$\n",
    "\n",
    "We can then define the weights as piece-wise constant functions \n",
    "\n",
    "$$\n",
    "        \\forall i  \\quad t\\in[t_i,t_{i+1}]\\Rightarrow\\theta(t) = \\theta_i, \\quad\\theta_i\\in\\{\\theta_1,\\theta_2,\\theta_N\\}\n",
    "$$\n",
    "    \n",
    "The solution of the neural ODE becomes \n",
    "    \n",
    "$$\n",
    "    \\begin{aligned}\n",
    "        z(t) &= x + \\int_0^S f(z(\\tau),\\theta(\\tau))d\\tau \\\\\n",
    "        &= x + \\sum_{i=1}^{N-1}\\int_{t_i}^{t_{i+1}} f(z(\\tau),\\theta_i)d\\tau\n",
    "    \\end{aligned}\n",
    "$$\n",
    "    \n",
    "This is equivalent to stacking $N-1$ neural ODEs with **identical structure** and **disentangled weights**\n",
    "    \n",
    "$$\n",
    "        \\begin{aligned}\n",
    "         \\dot z =  f( z(t),\\theta_i) \\quad t\\in[t_i,t_{i+1}]\n",
    "        \\end{aligned}\n",
    "$$\n",
    "    \n",
    "which are **stacked sequentially** and trained with *classic* adjoint method.\n",
    "\n",
    "In principle, $f$ can be chosen arbitrarily. Hereafter we consider, e.g. the `data-controlled` case.\n",
    "\n",
    "**NOTE:** Let $\\Delta t_i = t_{i+1} - t_i$. Since the individual Neural ODEs are *depth-invariant*, we can just solve the ODEs in $[0,\\Delta t_i]$"
   ]
  },
  {
   "cell_type": "code",
   "execution_count": null,
   "id": "6042b458",
   "metadata": {
    "papermill": {
     "duration": null,
     "end_time": null,
     "exception": null,
     "start_time": null,
     "status": "pending"
    },
    "tags": []
   },
   "outputs": [],
   "source": [
    "# We choose to divide the domain [0,1] in num_pieces=5 intervals\n",
    "num_pieces = 5\n",
    "\n",
    "# Stacked depth-invariant Neural ODEs aka Neural ODEs with piecewise constant weights \n",
    "nde = []\n",
    "for i in range(num_pieces):\n",
    "    nde.append(NeuralODE(nn.Sequential(DataControl(),\n",
    "                                      nn.Linear(4, 4), \n",
    "                                      nn.Tanh(), \n",
    "                                      nn.Linear(4, 2)), solver='rk4')) \n",
    "pc_node = nn.Sequential(*nde).to(device)\n",
    "\n",
    "t_span = torch.linspace(0, 1, 5) # here we chose Δt_𝑖 = 1 ∀𝑖. \n",
    "\n",
    "# we need a little wrapper to handle the `t_eval` outputs\n",
    "class PC_NeuralODE(nn.Module):\n",
    "    def __init__(self):\n",
    "        super().__init__()\n",
    "        self.pc_node = pc_node\n",
    "    def forward(self, x, t_span):\n",
    "        for node in self.pc_node:\n",
    "            t_eval, traj = node(x, t_span)\n",
    "            x = traj[-1]\n",
    "        return t_eval, traj    \n",
    "    \n",
    "model = PC_NeuralODE()"
   ]
  },
  {
   "cell_type": "code",
   "execution_count": null,
   "id": "68be7807",
   "metadata": {
    "papermill": {
     "duration": null,
     "end_time": null,
     "exception": null,
     "start_time": null,
     "status": "pending"
    },
    "tags": []
   },
   "outputs": [],
   "source": [
    "learn = Learner(t_span, model)\n",
    "if dry_run: trainer = pl.Trainer(min_epochs=1, max_epochs=1)\n",
    "else: trainer = pl.Trainer(min_epochs=250, max_epochs=250)\n",
    "trainer.fit(learn)"
   ]
  },
  {
   "cell_type": "markdown",
   "id": "25860e53",
   "metadata": {
    "papermill": {
     "duration": null,
     "end_time": null,
     "exception": null,
     "start_time": null,
     "status": "pending"
    },
    "tags": []
   },
   "source": [
    "**Plots**"
   ]
  },
  {
   "cell_type": "code",
   "execution_count": null,
   "id": "7be6d46e",
   "metadata": {
    "papermill": {
     "duration": null,
     "end_time": null,
     "exception": null,
     "start_time": null,
     "status": "pending"
    },
    "tags": []
   },
   "outputs": [],
   "source": [
    "# Evaluate the data trajectories\n",
    "t_span = torch.linspace(0,1,5)\n",
    "trajectory = [pc_node[0].trajectory(X_train.cpu(), t_span)]\n",
    "for i in range(1, num_pieces):\n",
    "    trajectory.append(pc_node[i].trajectory(trajectory[-1][-1], t_span))\n",
    "                      \n",
    "trajectory = torch.cat(trajectory, 0).detach().cpu() \n",
    "tot_t_span = torch.linspace(0, 5, 25)"
   ]
  },
  {
   "cell_type": "code",
   "execution_count": null,
   "id": "f7e6fadd",
   "metadata": {
    "papermill": {
     "duration": null,
     "end_time": null,
     "exception": null,
     "start_time": null,
     "status": "pending"
    },
    "tags": []
   },
   "outputs": [],
   "source": [
    "# Trajectories in the depth domain\n",
    "plot_2D_depth_trajectory(tot_t_span, trajectory, yn, len(X))"
   ]
  },
  {
   "cell_type": "code",
   "execution_count": null,
   "id": "f63c764e",
   "metadata": {
    "papermill": {
     "duration": null,
     "end_time": null,
     "exception": null,
     "start_time": null,
     "status": "pending"
    },
    "tags": []
   },
   "outputs": [],
   "source": [
    "# Trajectories in the state-space\n",
    "plot_2D_state_space(trajectory, yn, len(X))"
   ]
  },
  {
   "cell_type": "code",
   "execution_count": null,
   "id": "76c59811",
   "metadata": {
    "papermill": {
     "duration": null,
     "end_time": null,
     "exception": null,
     "start_time": null,
     "status": "pending"
    },
    "tags": []
   },
   "outputs": [],
   "source": [
    "# Trajectories in space-depth\n",
    "plot_2D_space_depth(tot_t_span, trajectory, yn, len(X))"
   ]
  },
  {
   "cell_type": "markdown",
   "id": "3aff8bd9",
   "metadata": {
    "papermill": {
     "duration": null,
     "end_time": null,
     "exception": null,
     "start_time": null,
     "status": "pending"
    },
    "tags": []
   },
   "source": [
    "## Stacked Neural ODEs with Discrete State Transitions\n",
    "\n",
    "These are basically the `Stacked` model where, at the end of an interval $[t_i, t_{i+1}]$, the state is also updated by learned transition maps $g(h, \\omega_i)$ parametrized by a NN, i.e.\n",
    "\n",
    "$$\n",
    "  \\left\\{\n",
    "        \\begin{aligned}\n",
    "             \\dot z &=  f(z(t),\\theta_i) \\quad t\\in[t_i,t_{i+1}]\\\\\n",
    "             z^+ &= g(z(t),\\omega_i) \\quad t = t_{i+1}\n",
    "        \\end{aligned}\n",
    "  \\right.\n",
    "$$\n",
    "\n",
    "**NOTE:** While not standard, this class highlights how Neural ODE variants can be put together easily via torchdyn's API."
   ]
  },
  {
   "cell_type": "code",
   "execution_count": null,
   "id": "82e3f1f6",
   "metadata": {
    "papermill": {
     "duration": null,
     "end_time": null,
     "exception": null,
     "start_time": null,
     "status": "pending"
    },
    "tags": []
   },
   "outputs": [],
   "source": [
    "# We choose to divide the domain [0,1] in num_pieces=5 intervals\n",
    "num_pieces = 5\n",
    "\n",
    "# stacked depth-invariant Neural ODEs\n",
    "nde = []\n",
    "for i in range(num_pieces):\n",
    "    nde.append(NeuralODE(nn.Sequential(DataControl(),\n",
    "                                      nn.Linear(4, 4), \n",
    "                                      nn.Tanh(), \n",
    "                                      nn.Linear(4, 2)), solver='rk4'))\n",
    "\n",
    "    # In this case the state \"jump\" is parametrized by a simple linear layer   \n",
    "jumps = []\n",
    "for i in range(num_pieces):\n",
    "    jumps.append(\n",
    "        nn.Linear(2, 2)\n",
    "    )\n",
    "    \n",
    "flows = nn.Sequential(*nde).to(device)\n",
    "jumps = nn.Sequential(*jumps).to(device)\n",
    "\n",
    "t_span = torch.linspace(0, 1, 5)\n",
    "\n",
    "# we need a little wrapper to handle the `t_eval` outputs\n",
    "class PCDST_NeuralODE(nn.Module):\n",
    "    def __init__(self):\n",
    "        super().__init__()\n",
    "        self.flows = flows\n",
    "        self.jumps = jumps\n",
    "    def forward(self, x, t_span):\n",
    "        for k, node in enumerate(self.flows):\n",
    "            t_eval, traj = node(x, t_span)\n",
    "            x = self.jumps[k](traj[-1])\n",
    "        return t_eval, traj    \n",
    "    \n",
    "model = PCDST_NeuralODE()"
   ]
  },
  {
   "cell_type": "code",
   "execution_count": null,
   "id": "f79a1bf6",
   "metadata": {
    "papermill": {
     "duration": null,
     "end_time": null,
     "exception": null,
     "start_time": null,
     "status": "pending"
    },
    "tags": []
   },
   "outputs": [],
   "source": [
    "learn = Learner(t_span, model)\n",
    "if dry_run: trainer = pl.Trainer(min_epochs=1, max_epochs=1)\n",
    "else: trainer = pl.Trainer(min_epochs=200, max_epochs=250)\n",
    "trainer.fit(learn)"
   ]
  },
  {
   "cell_type": "markdown",
   "id": "341dd04f",
   "metadata": {
    "papermill": {
     "duration": null,
     "end_time": null,
     "exception": null,
     "start_time": null,
     "status": "pending"
    },
    "tags": []
   },
   "source": [
    "**Plots**"
   ]
  },
  {
   "cell_type": "code",
   "execution_count": null,
   "id": "ff879e79",
   "metadata": {},
   "outputs": [],
   "source": [
    "# Evaluate the data trajectories\n",
    "t_span = torch.linspace(0,1,5)\n",
    "trajectory = [flows[0].trajectory(X_train.cpu(), t_span)]\n",
    "for i in range(1, num_pieces):\n",
    "    post_jump = jumps[i-1](trajectory[i-1][-1]) # apply jump to last solution point\n",
    "    trajectory.append(\n",
    "        flows[i].trajectory(post_jump.cpu(), t_span))\n",
    "                      \n",
    "trajectory = torch.cat(trajectory, 0).detach().cpu() \n",
    "tot_t_span = torch.linspace(0, 5, 25)"
   ]
  },
  {
   "cell_type": "code",
   "execution_count": null,
   "id": "1b4374dc",
   "metadata": {
    "papermill": {
     "duration": null,
     "end_time": null,
     "exception": null,
     "start_time": null,
     "status": "pending"
    },
    "tags": []
   },
   "outputs": [],
   "source": [
    "# Trajectories in the depth domain\n",
    "plot_2D_depth_trajectory(tot_t_span, trajectory, yn, len(X))"
   ]
  },
  {
   "cell_type": "code",
   "execution_count": null,
   "id": "df07d95a",
   "metadata": {
    "papermill": {
     "duration": null,
     "end_time": null,
     "exception": null,
     "start_time": null,
     "status": "pending"
    },
    "tags": []
   },
   "outputs": [],
   "source": [
    "# Trajectories in the state-space\n",
    "plot_2D_state_space(trajectory, yn, len(X))"
   ]
  },
  {
   "cell_type": "code",
   "execution_count": null,
   "id": "e9135c14",
   "metadata": {
    "papermill": {
     "duration": null,
     "end_time": null,
     "exception": null,
     "start_time": null,
     "status": "pending"
    },
    "tags": []
   },
   "outputs": [],
   "source": [
    "# Trajectories in space-depth\n",
    "plot_2D_space_depth(tot_t_span, trajectory, yn, len(X))"
   ]
  }
 ],
 "metadata": {
  "kernelspec": {
   "display_name": "Python 3 (ipykernel)",
   "language": "python",
   "name": "python3"
  },
  "language_info": {
   "codemirror_mode": {
    "name": "ipython",
    "version": 3
   },
   "file_extension": ".py",
   "mimetype": "text/x-python",
   "name": "python",
   "nbconvert_exporter": "python",
   "pygments_lexer": "ipython3",
   "version": "3.10.8"
  },
  "latex_envs": {
   "LaTeX_envs_menu_present": true,
   "autoclose": false,
   "autocomplete": true,
   "bibliofile": "biblio.bib",
   "cite_by": "apalike",
   "current_citInitial": 1,
   "eqLabelWithNumbers": true,
   "eqNumInitial": 1,
   "hotkeys": {
    "equation": "Ctrl-E",
    "itemize": "Ctrl-I"
   },
   "labels_anchors": false,
   "latex_user_defs": false,
   "report_style_numbering": false,
   "user_envs_cfg": false
  },
  "papermill": {
   "default_parameters": {},
   "duration": 29.046384,
   "end_time": "2021-06-17T12:39:52.317291",
   "environment_variables": {},
   "exception": true,
   "input_path": "tutorials/01_neural_ode_cookbook.ipynb",
   "output_path": "tutorials/01_neural_ode_cookbook.ipynb",
   "parameters": {},
   "start_time": "2021-06-17T12:39:23.270907",
   "version": "2.3.3"
  },
  "varInspector": {
   "cols": {
    "lenName": 16,
    "lenType": 16,
    "lenVar": 40
   },
   "kernels_config": {
    "python": {
     "delete_cmd_postfix": "",
     "delete_cmd_prefix": "del ",
     "library": "var_list.py",
     "varRefreshCmd": "print(var_dic_list())"
    },
    "r": {
     "delete_cmd_postfix": ") ",
     "delete_cmd_prefix": "rm(",
     "library": "var_list.r",
     "varRefreshCmd": "cat(var_dic_list()) "
    }
   },
   "types_to_exclude": [
    "module",
    "function",
    "builtin_function_or_method",
    "instance",
    "_Feature"
   ],
   "window_display": false
  },
  "widgets": {
   "application/vnd.jupyter.widget-state+json": {
    "state": {
     "149b167de0d34bb19d2b42a462867a37": {
      "model_module": "@jupyter-widgets/controls",
      "model_module_version": "1.5.0",
      "model_name": "HTMLModel",
      "state": {
       "_dom_classes": [],
       "_model_module": "@jupyter-widgets/controls",
       "_model_module_version": "1.5.0",
       "_model_name": "HTMLModel",
       "_view_count": null,
       "_view_module": "@jupyter-widgets/controls",
       "_view_module_version": "1.5.0",
       "_view_name": "HTMLView",
       "description": "",
       "description_tooltip": null,
       "layout": "IPY_MODEL_7edc403926834204a535f29f32ab11ea",
       "placeholder": "​",
       "style": "IPY_MODEL_3d19990298ff4aab902b6d79c3395c75",
       "value": " 1/1 [00:00&lt;00:00, 12.13it/s, loss=0.000996, v_num=151]"
      }
     },
     "3d19990298ff4aab902b6d79c3395c75": {
      "model_module": "@jupyter-widgets/controls",
      "model_module_version": "1.5.0",
      "model_name": "DescriptionStyleModel",
      "state": {
       "_model_module": "@jupyter-widgets/controls",
       "_model_module_version": "1.5.0",
       "_model_name": "DescriptionStyleModel",
       "_view_count": null,
       "_view_module": "@jupyter-widgets/base",
       "_view_module_version": "1.2.0",
       "_view_name": "StyleView",
       "description_width": ""
      }
     },
     "42e88b6a8f184fe5aea27524a796ba5f": {
      "model_module": "@jupyter-widgets/base",
      "model_module_version": "1.2.0",
      "model_name": "LayoutModel",
      "state": {
       "_model_module": "@jupyter-widgets/base",
       "_model_module_version": "1.2.0",
       "_model_name": "LayoutModel",
       "_view_count": null,
       "_view_module": "@jupyter-widgets/base",
       "_view_module_version": "1.2.0",
       "_view_name": "LayoutView",
       "align_content": null,
       "align_items": null,
       "align_self": null,
       "border": null,
       "bottom": null,
       "display": null,
       "flex": null,
       "flex_flow": null,
       "grid_area": null,
       "grid_auto_columns": null,
       "grid_auto_flow": null,
       "grid_auto_rows": null,
       "grid_column": null,
       "grid_gap": null,
       "grid_row": null,
       "grid_template_areas": null,
       "grid_template_columns": null,
       "grid_template_rows": null,
       "height": null,
       "justify_content": null,
       "justify_items": null,
       "left": null,
       "margin": null,
       "max_height": null,
       "max_width": null,
       "min_height": null,
       "min_width": null,
       "object_fit": null,
       "object_position": null,
       "order": null,
       "overflow": null,
       "overflow_x": null,
       "overflow_y": null,
       "padding": null,
       "right": null,
       "top": null,
       "visibility": null,
       "width": null
      }
     },
     "7edc403926834204a535f29f32ab11ea": {
      "model_module": "@jupyter-widgets/base",
      "model_module_version": "1.2.0",
      "model_name": "LayoutModel",
      "state": {
       "_model_module": "@jupyter-widgets/base",
       "_model_module_version": "1.2.0",
       "_model_name": "LayoutModel",
       "_view_count": null,
       "_view_module": "@jupyter-widgets/base",
       "_view_module_version": "1.2.0",
       "_view_name": "LayoutView",
       "align_content": null,
       "align_items": null,
       "align_self": null,
       "border": null,
       "bottom": null,
       "display": null,
       "flex": null,
       "flex_flow": null,
       "grid_area": null,
       "grid_auto_columns": null,
       "grid_auto_flow": null,
       "grid_auto_rows": null,
       "grid_column": null,
       "grid_gap": null,
       "grid_row": null,
       "grid_template_areas": null,
       "grid_template_columns": null,
       "grid_template_rows": null,
       "height": null,
       "justify_content": null,
       "justify_items": null,
       "left": null,
       "margin": null,
       "max_height": null,
       "max_width": null,
       "min_height": null,
       "min_width": null,
       "object_fit": null,
       "object_position": null,
       "order": null,
       "overflow": null,
       "overflow_x": null,
       "overflow_y": null,
       "padding": null,
       "right": null,
       "top": null,
       "visibility": null,
       "width": null
      }
     },
     "9e6d916473ed4e1098d0ef84e221ee26": {
      "model_module": "@jupyter-widgets/controls",
      "model_module_version": "1.5.0",
      "model_name": "DescriptionStyleModel",
      "state": {
       "_model_module": "@jupyter-widgets/controls",
       "_model_module_version": "1.5.0",
       "_model_name": "DescriptionStyleModel",
       "_view_count": null,
       "_view_module": "@jupyter-widgets/base",
       "_view_module_version": "1.2.0",
       "_view_name": "StyleView",
       "description_width": ""
      }
     },
     "a6fc6d4e706647bba5caa2d4b99b5f45": {
      "model_module": "@jupyter-widgets/controls",
      "model_module_version": "1.5.0",
      "model_name": "FloatProgressModel",
      "state": {
       "_dom_classes": [],
       "_model_module": "@jupyter-widgets/controls",
       "_model_module_version": "1.5.0",
       "_model_name": "FloatProgressModel",
       "_view_count": null,
       "_view_module": "@jupyter-widgets/controls",
       "_view_module_version": "1.5.0",
       "_view_name": "ProgressView",
       "bar_style": "success",
       "description": "",
       "description_tooltip": null,
       "layout": "IPY_MODEL_ae659a85c83c42fe9613bef07097ec09",
       "max": 1,
       "min": 0,
       "orientation": "horizontal",
       "style": "IPY_MODEL_cd126243574a4a27b9b2ea0f3b33afbf",
       "value": 1
      }
     },
     "ae659a85c83c42fe9613bef07097ec09": {
      "model_module": "@jupyter-widgets/base",
      "model_module_version": "1.2.0",
      "model_name": "LayoutModel",
      "state": {
       "_model_module": "@jupyter-widgets/base",
       "_model_module_version": "1.2.0",
       "_model_name": "LayoutModel",
       "_view_count": null,
       "_view_module": "@jupyter-widgets/base",
       "_view_module_version": "1.2.0",
       "_view_name": "LayoutView",
       "align_content": null,
       "align_items": null,
       "align_self": null,
       "border": null,
       "bottom": null,
       "display": null,
       "flex": "2",
       "flex_flow": null,
       "grid_area": null,
       "grid_auto_columns": null,
       "grid_auto_flow": null,
       "grid_auto_rows": null,
       "grid_column": null,
       "grid_gap": null,
       "grid_row": null,
       "grid_template_areas": null,
       "grid_template_columns": null,
       "grid_template_rows": null,
       "height": null,
       "justify_content": null,
       "justify_items": null,
       "left": null,
       "margin": null,
       "max_height": null,
       "max_width": null,
       "min_height": null,
       "min_width": null,
       "object_fit": null,
       "object_position": null,
       "order": null,
       "overflow": null,
       "overflow_x": null,
       "overflow_y": null,
       "padding": null,
       "right": null,
       "top": null,
       "visibility": null,
       "width": null
      }
     },
     "cd126243574a4a27b9b2ea0f3b33afbf": {
      "model_module": "@jupyter-widgets/controls",
      "model_module_version": "1.5.0",
      "model_name": "ProgressStyleModel",
      "state": {
       "_model_module": "@jupyter-widgets/controls",
       "_model_module_version": "1.5.0",
       "_model_name": "ProgressStyleModel",
       "_view_count": null,
       "_view_module": "@jupyter-widgets/base",
       "_view_module_version": "1.2.0",
       "_view_name": "StyleView",
       "bar_color": null,
       "description_width": ""
      }
     },
     "e978be3a6a0d4cb4af34adfb7fe2bafb": {
      "model_module": "@jupyter-widgets/base",
      "model_module_version": "1.2.0",
      "model_name": "LayoutModel",
      "state": {
       "_model_module": "@jupyter-widgets/base",
       "_model_module_version": "1.2.0",
       "_model_name": "LayoutModel",
       "_view_count": null,
       "_view_module": "@jupyter-widgets/base",
       "_view_module_version": "1.2.0",
       "_view_name": "LayoutView",
       "align_content": null,
       "align_items": null,
       "align_self": null,
       "border": null,
       "bottom": null,
       "display": "inline-flex",
       "flex": null,
       "flex_flow": "row wrap",
       "grid_area": null,
       "grid_auto_columns": null,
       "grid_auto_flow": null,
       "grid_auto_rows": null,
       "grid_column": null,
       "grid_gap": null,
       "grid_row": null,
       "grid_template_areas": null,
       "grid_template_columns": null,
       "grid_template_rows": null,
       "height": null,
       "justify_content": null,
       "justify_items": null,
       "left": null,
       "margin": null,
       "max_height": null,
       "max_width": null,
       "min_height": null,
       "min_width": null,
       "object_fit": null,
       "object_position": null,
       "order": null,
       "overflow": null,
       "overflow_x": null,
       "overflow_y": null,
       "padding": null,
       "right": null,
       "top": null,
       "visibility": null,
       "width": "100%"
      }
     },
     "f3d08adc32d0462b978dec2b6ba1daa1": {
      "model_module": "@jupyter-widgets/controls",
      "model_module_version": "1.5.0",
      "model_name": "HBoxModel",
      "state": {
       "_dom_classes": [],
       "_model_module": "@jupyter-widgets/controls",
       "_model_module_version": "1.5.0",
       "_model_name": "HBoxModel",
       "_view_count": null,
       "_view_module": "@jupyter-widgets/controls",
       "_view_module_version": "1.5.0",
       "_view_name": "HBoxView",
       "box_style": "",
       "children": [
        "IPY_MODEL_f84e1e5544c845f7bef66f7cbd3cf841",
        "IPY_MODEL_a6fc6d4e706647bba5caa2d4b99b5f45",
        "IPY_MODEL_149b167de0d34bb19d2b42a462867a37"
       ],
       "layout": "IPY_MODEL_e978be3a6a0d4cb4af34adfb7fe2bafb"
      }
     },
     "f84e1e5544c845f7bef66f7cbd3cf841": {
      "model_module": "@jupyter-widgets/controls",
      "model_module_version": "1.5.0",
      "model_name": "HTMLModel",
      "state": {
       "_dom_classes": [],
       "_model_module": "@jupyter-widgets/controls",
       "_model_module_version": "1.5.0",
       "_model_name": "HTMLModel",
       "_view_count": null,
       "_view_module": "@jupyter-widgets/controls",
       "_view_module_version": "1.5.0",
       "_view_name": "HTMLView",
       "description": "",
       "description_tooltip": null,
       "layout": "IPY_MODEL_42e88b6a8f184fe5aea27524a796ba5f",
       "placeholder": "​",
       "style": "IPY_MODEL_9e6d916473ed4e1098d0ef84e221ee26",
       "value": "Epoch 249: 100%"
      }
     }
    },
    "version_major": 2,
    "version_minor": 0
   }
  }
 },
 "nbformat": 4,
 "nbformat_minor": 5
}
