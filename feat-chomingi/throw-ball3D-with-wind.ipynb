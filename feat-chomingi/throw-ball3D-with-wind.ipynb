{
 "cells": [
  {
   "attachments": {},
   "cell_type": "markdown",
   "metadata": {},
   "source": [
    "### 필요한 모델 임포트"
   ]
  },
  {
   "cell_type": "code",
   "execution_count": 5,
   "metadata": {},
   "outputs": [],
   "source": [
    "import torch\n",
    "from torch import nn\n",
    "from torchdyn.models import NeuralODE\n",
    "import matplotlib.pyplot as plt\n",
    "from mpl_toolkits.mplot3d import Axes3D\n",
    "import numpy as np\n",
    "\n",
    "\n"
   ]
  },
  {
   "attachments": {},
   "cell_type": "markdown",
   "metadata": {},
   "source": [
    "### 초기값, 시간범위 지정"
   ]
  },
  {
   "cell_type": "code",
   "execution_count": 6,
   "metadata": {},
   "outputs": [],
   "source": [
    "# 중력 가속도\n",
    "g = 9.81\n",
    "\n",
    "# 초기 위치와 속도\n",
    "h0 = 10.0\n",
    "v0 = 5.0\n",
    "\n",
    "# 시간 범위\n",
    "t_span = torch.linspace(0, 1, 100)\n"
   ]
  },
  {
   "attachments": {},
   "cell_type": "markdown",
   "metadata": {},
   "source": [
    "### FINN + NeuralODE 적용한 신경망 모델 + 그래프\n"
   ]
  },
  {
   "cell_type": "code",
   "execution_count": 7,
   "metadata": {},
   "outputs": [
    {
     "ename": "NameError",
     "evalue": "name 'num_trajectories' is not defined",
     "output_type": "error",
     "traceback": [
      "\u001b[1;31m---------------------------------------------------------------------------\u001b[0m",
      "\u001b[1;31mNameError\u001b[0m                                 Traceback (most recent call last)",
      "Cell \u001b[1;32mIn[7], line 22\u001b[0m\n\u001b[0;32m     19\u001b[0m y0 \u001b[39m=\u001b[39m torch\u001b[39m.\u001b[39mtensor([[h0, h0, h0, v0 \u001b[39m/\u001b[39m np\u001b[39m.\u001b[39msqrt(\u001b[39m2\u001b[39m), v0 \u001b[39m/\u001b[39m np\u001b[39m.\u001b[39msqrt(\u001b[39m2\u001b[39m), v0]])\n\u001b[0;32m     21\u001b[0m \u001b[39m# 바람 조건\u001b[39;00m\n\u001b[1;32m---> 22\u001b[0m wind_values \u001b[39m=\u001b[39m np\u001b[39m.\u001b[39mrandom\u001b[39m.\u001b[39muniform(low\u001b[39m=\u001b[39m\u001b[39m-\u001b[39m\u001b[39m0.5\u001b[39m, high\u001b[39m=\u001b[39m\u001b[39m0.5\u001b[39m, size\u001b[39m=\u001b[39m(num_trajectories,))\n\u001b[0;32m     26\u001b[0m \u001b[39m# 그래프 설정\u001b[39;00m\n\u001b[0;32m     27\u001b[0m fig \u001b[39m=\u001b[39m plt\u001b[39m.\u001b[39mfigure()\n",
      "\u001b[1;31mNameError\u001b[0m: name 'num_trajectories' is not defined"
     ]
    }
   ],
   "source": [
    "class ODEFunc(nn.Module):\n",
    "    def __init__(self, g=9.8, wind=0):\n",
    "        super(ODEFunc, self).__init__()\n",
    "        self.g = g\n",
    "        self.wind = nn.Parameter(torch.tensor(wind, dtype=torch.float32))\n",
    "\n",
    "    def forward(self, t, y):\n",
    "        x, y, z, vx, vy, vz = torch.split(y, 1, dim=1)\n",
    "        dxdt = vx\n",
    "        dydt = vy\n",
    "        dzdt = vz\n",
    "        dvxdt = self.wind * torch.ones_like(vx)\n",
    "        dvydt = torch.zeros_like(vy)\n",
    "        dvzdt = -self.g * torch.ones_like(vz)\n",
    "        return torch.cat((dxdt, dydt, dzdt, dvxdt, dvydt, dvzdt), dim=1)\n",
    "\n",
    "\n",
    "# 초기 조건\n",
    "y0 = torch.tensor([[h0, h0, h0, v0 / np.sqrt(2), v0 / np.sqrt(2), v0]])\n",
    "\n",
    "\n",
    "\n",
    "\n",
    "# 그래프 설정\n",
    "fig = plt.figure()\n",
    "ax = fig.add_subplot(111, projection='3d')\n",
    "\n",
    "# 시뮬레이션 횟수(나중에 데이터셋이 있다면 train 을 돌리는 방식)\n",
    "num_trajectories = 10\n",
    "\n",
    "# 바람 조건\n",
    "wind_values = np.random.uniform(low=-0.5, high=0.5, size=(num_trajectories,))\n",
    "\n",
    "# 시뮬레이션\n",
    "for i in range(num_trajectories):\n",
    "    # Define the vector field function for each trajectory\n",
    "    vector_field = ODEFunc(g=g, wind=wind_values[i])\n",
    "\n",
    "    # Neural ODE model\n",
    "    neural_ode = NeuralODE(vector_field, sensitivity='autograd', solver='dopri5')\n",
    "    \n",
    "    # Simulate trajectory\n",
    "    trajectory = neural_ode.trajectory(y0, t_span).detach()\n",
    "\n",
    "    # Plot trajectory\n",
    "    ax.plot(trajectory[:, 0, 0].numpy(), trajectory[:, 0, 1].numpy(), trajectory[:, 0, 2].numpy())\n",
    "\n",
    "plt.show()"
   ]
  }
 ],
 "metadata": {
  "kernelspec": {
   "display_name": ".venv",
   "language": "python",
   "name": "python3"
  },
  "language_info": {
   "codemirror_mode": {
    "name": "ipython",
    "version": 3
   },
   "file_extension": ".py",
   "mimetype": "text/x-python",
   "name": "python",
   "nbconvert_exporter": "python",
   "pygments_lexer": "ipython3",
   "version": "3.10.8"
  },
  "orig_nbformat": 4
 },
 "nbformat": 4,
 "nbformat_minor": 2
}
